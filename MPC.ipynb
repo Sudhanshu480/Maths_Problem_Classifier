{
 "cells": [
  {
   "attachments": {},
   "cell_type": "markdown",
   "metadata": {},
   "source": [
    "Importing the Libraries and Dataset"
   ]
  },
  {
   "cell_type": "code",
   "execution_count": 1,
   "metadata": {},
   "outputs": [],
   "source": [
    "import numpy as np\n",
    "import matplotlib.pyplot as plt\n",
    "import pandas as pd"
   ]
  },
  {
   "cell_type": "code",
   "execution_count": 2,
   "metadata": {},
   "outputs": [],
   "source": [
    "dataset = pd.read_csv(\"Maths_Problem_Category.csv\")"
   ]
  },
  {
   "attachments": {},
   "cell_type": "markdown",
   "metadata": {},
   "source": [
    "Cleaning the Texts"
   ]
  },
  {
   "cell_type": "code",
   "execution_count": 3,
   "metadata": {},
   "outputs": [
    {
     "name": "stderr",
     "output_type": "stream",
     "text": [
      "[nltk_data] Downloading package stopwords to C:\\Users\\Sudhanshu\n",
      "[nltk_data]     Kumar\\AppData\\Roaming\\nltk_data...\n",
      "[nltk_data]   Package stopwords is already up-to-date!\n"
     ]
    }
   ],
   "source": [
    "import re\n",
    "import nltk\n",
    "nltk.download('stopwords')\n",
    "from nltk.corpus import stopwords\n",
    "from nltk.stem.porter import PorterStemmer\n",
    "corpus = []\n",
    "for i in range(0, 250):\n",
    "  problem = re.sub('[^a-zA-Z]', ' ', dataset['problem'][i])\n",
    "  problem = problem.lower()\n",
    "  problem = problem.split()\n",
    "  ps = PorterStemmer()\n",
    "  problem = [ps.stem(word) for word in problem if not word in set(stopwords.words('english'))]\n",
    "  problem = ' '.join(problem)\n",
    "  corpus.append(problem)"
   ]
  },
  {
   "cell_type": "code",
   "execution_count": 4,
   "metadata": {},
   "outputs": [
    {
     "name": "stdout",
     "output_type": "stream",
     "text": [
      "['ring toss game carniv marco throw ring ring worth point worth point marco score total point mani point ring point ring marco toss', 'interact student follow step creat exploratori area model', 'follow direct creat equival fraction denomin interact student follow step creat exploratori area model', 'solv follow system substitut x x', 'solv follow system substitut x x', 'estim quotient', 'olivia went beauti store buy p bottl nail polish bottl nail polish cost much spend total bottl nail polish write express use p', 'jeff marbl collect robert time mani marbl jeff mani marbl robert write express use', 'paxton marbl clean room found marbl bed mani total marbl paxton write express', 'estim product', 'interact student follow step creat exploratori area model', 'violet eri take surf lesson violet pay lesson per hour rent surfboard eri pay lesson per hour rent surfboard write two equat slope intercept form repres person total cost term number hour x', 'violet eri take surf lesson violet pay lesson per hour rent surfboard eri pay lesson per hour rent surfboard mani hour violet eri spent amount', 'piggi bank brigitta nickel dime mani total coin brigitta piggi bank write express use', 'write express match phrase n increas', 'calista b page read novel alreadi read page mani total number page calista novel write express b', 'solv system equat x x', 'identifi term coeffici variabl constant follow express n', 'solv follow system substitut x x', 'solv system equat x x', 'estim quotient', 'write express match phrase n cube minu', 'write express match phrase increas n squar', 'solv follow system elimin x x', 'write equat match phrase b time', 'solv follow system substitut x x', 'solv follow system substitut x x', 'estim product', 'estim product', 'trevor bug collect jimmi b time mani bug collect trevor mani bug jimmi collect write express use b', 'gomez amber dog walker gomez earn far charg per walk amber earn far charg per walk write two equat slope intercept form repres amount dog walker earn term number walk x', 'housepaint bought gallon paint paint come gallon gallon can housepaint bought total can mani gallon gallon can paint painter buy', 'write express match phrase ad result time', 'write express match phrase product n cube', 'estim product', 'identifi term coeffici variabl constant follow express f g', 'write express match phrase time', 'estim quotient', 'write algebra express match phrase increas divid', 'bakeri buy flour pound pound bag one week use bag flour total pound write system equat find number pound bag x number pound bag bakeri use week', 'write express match phrase n squar divid', 'temperatur springfield degre fahrenheit noon decreas degre fahrenheit everi hour temperatur coolsvil degre fahrenheit noon decreas degre fahrenheit everi hour mani hour noon temperatur springfield coolsvil', 'determin number solut follow system equat x x number solut solut exactli one solut infinit mani solut', 'bradford knit scarf grandmoth complet inch scarf inch knit scarf finish mani total inch bradford scarf finish write express', 'cyclop goblin attend gather mythic creatur event creatur attend total eye cyclop one eye goblin two eye write system equat find number cyclop x number goblin attend gather', 'write express match phrase divid j decreas', 'follow direct creat equival fraction denomin interact student follow step creat exploratori area model', 'wayn receiv gift card local movi theater use card summer see movi bought matine ticket full price ticket write system equat find number matine ticket x number full price ticket wayn purchas', 'identifi term coeffici variabl constant follow express x', 'franklin middl school can food drive mr lao class mr lao brought can food student brought can ms roger class ms roger bring can student brought can food mani student teacher need order number can teacher mani student mani can food class bring', 'solv follow system substitut x x', 'write equat match phrase ad', 'determin number solut follow system equat x x number solut solut exactli one solut infinit mani solut', 'follow direct creat equival fraction denomin interact student follow step creat exploratori area model', 'yesterday alan jog mile today jog mile yesterday mani mile alan jog today write express', 'filippa pencil pencil box father bought p pencil mani total pencil filippa pencil box write express p', 'summer camp buy two kind snack camper buy pack fruit chew pack chees cracker camper line receiv pack fruit chew pack chees cracker mani camper get snack number fruit chew chees cracker remain', 'write express match phrase seven eighth n subtract', 'estim product', 'estim product', 'write equat match phrase greater n', 'write express match phrase n cube time', 'solv follow system substitut x x', 'write algebra express match phrase divid less p', 'follow direct creat equival fraction denomin interact student follow step creat exploratori area model', 'solv system equat x x', 'cynthia finish math problem homework tonight still h problem mani total math problem cynthia math homework assign tonight write express h', 'identifi term coeffici variabl constant follow express g h j', 'determin number solut follow system equat x x number solut solut exactli one solut infinit mani solut', 'write express match phrase divid w add', 'solv follow system substitut x x', 'estim quotient', 'write algebra express match phrase subtract multipli', 'kendra watch e episod anim weekend episod last minut mani minut anim kendra watch write express use e use express mani minut anim kendra watch watch episod', 'write express match phrase multipli r decreas result', 'lexi pete train marathon lexi current run mile per week plan increas mileag mile week pete current run mile per week plan increas weekli mileag mile week mani week lexi pete run number mile week', 'determin number solut follow system equat x x number solut solut exactli one solut infinit mani solut', 'saturday coldvil receiv inch snow sunday inch snow fell mani total inch snow coldvil receiv weekend write express', 'identifi term coeffici variabl constant follow express r p', 'theater seat seat fill mani seat fill', 'interact student follow step creat exploratori area model', 'franco went long run sunday mile rest week ran total mile mani mile franco run week write express use use express mani mile franco run week long run sunday mile', 'make necklac becki use white bead b blue bead mani total bead becki use necklac write express b', 'andrew plant grow backyard john p time mani plant grow backyard andrew mani plant john grow backyard write express use p', 'write express match phrase greater', 'follow direct creat equival fraction denomin interact student follow step creat exploratori area model', 'ring toss game carniv marco throw ring ring worth point worth point marco score total point write system equat find number point ring x number point ring marco toss', 'estim product', 'art show piec paint paint done th grader fraction art piec paint th grader', 'th grader take end year field trip far student turn permiss slip student turn permiss slip mani th grade student write express use use express mani th grade student student turn permiss slip', 'determin number solut follow system equat x x number solut solut exactli one solut infinit mani solut', 'write express match phrase one half n decreas', 'write equat match phrase time', 'gonzalez famili drove h hour get beach stop along way eat lunch lunch break last hour mani hour take togeth get beach write express use h use express mani hour take togeth spent hour drive', 'anim walk around farmer mac barnyard chicken pig anim total leg mani leg chicken leg pig barnyard', 'interact student follow step creat exploratori area model', 'estim quotient', 'solv follow system substitut x x', 'solv follow system substitut x x', 'jamal brought box cooki share class box cooki chocol chocol cooki also chocol chip fraction box cooki chocol chocol chip', 'charlott coin pocket coin dime quarter valu coin write system equat find number dime x number quarter charlott pocket', 'beekeep ship box contain contain honey contain hold pound honey hold pound honey shipment contain total pound honey mani pound pound contain shipment', 'clair visit countri older brother visit c time mani countri clair mani countri brother visit write express use c', 'write express match phrase n squar ad', 'teacher purchas color pencil upcom project pencil order come pack pack order pack mani pack pencil pack pencil art teacher order', 'write express match phrase q time', 'estim quotient', 'estim product', 'firehous hold pancak breakfast rais money local chariti firefight dave alreadi made pancak cook averag pancak per minut griddl firefight alic alreadi made pancak cook averag pancak per minut griddl mani minut two firefight cook number pancak', 'identifi term coeffici variabl constant follow express k j', 'solv follow system substitut x x', 'write equat match phrase h increas', 'solv follow system elimin x x', 'brenda c coin pocket unfortun hole pocket coin fell walk school mani coin brenda left pocket fell write express use c', 'housepaint buy can gray white paint paint outsid hous gray paint come gallon can white paint come gallon can painter use gallon paint hous write system equat find number gray paint can x number white paint can painter use', 'estim quotient', 'maria mother make enchilada famili gather maria start tortilla make enchilada per minut maria mother start tortilla make enchilada per minut mani minut take maria mother number tortilla left long mani tortilla remain', 'determin number solut follow system equat x x number solut solut exactli one solut infinit mani solut', 'mari p pictur photo album friend beth time mani pictur photo album mari mani pictur beth album write express use p', 'determin number solut follow system equat x x number solut solut exactli one solut infinit mani solut', 'albert famili purchas ticket school play ticket cost children adult spent total ticket mani child ticket mani adult ticket albert famili purchas', 'write equat match phrase p multipli', 'estim quotient', 'solv system equat x x', 'write express match phrase ad j', 'shay philip learn play guitar philip know chord alreadi plan learn new chord per week shay know chord plan learn chord per week write two equat slope intercept form repres number chord student know term number week x', 'two friend stack block see make highest tower dillon tower inch tall far use block inch thick fran tower inch tall far use block inch thick write two equat slope intercept form repres height tower term number block x', 'follow direct creat equival fraction denomin interact student follow step creat exploratori area model', 'solv follow system elimin x x', 'solv system equat x x', 'lexi pete train marathon lexi current run mile per week plan increas weekli mileag mile week pete current run mile per week plan increas weekli mileag mile week write two equat slope intercept form repres total mileag runner term number week train x', 'solv follow system substitut x x', 'stephen dad brought cooler fill water bottl soccer tournament bottl water cooler bottl contain ounc contain ounc ounc water togeth mani ounc bottl ounc bottl cooler', 'jennif great coupon shopper last week groceri bill came g dollar hand cashier coupon bill decreas much jennif pay groceri use coupon write express use g', 'solv system equat x x', 'phoeb save account add per week oscar save account add week write two equat slope intercept form repres person account balanc term number week x', 'determin number solut follow system equat x x number solut solut exactli one solut infinit mani solut', 'write algebra express match phrase find sum g multipli', 'solv system equat x x', 'follow direct creat equival fraction denomin interact student follow step creat exploratori area model', 'salma previous visit state visit new state summer mani total state salma visit write express use use express mani total state salma visit previous visit state', 'write express match phrase multipli n add', 'determin number solut follow system equat x x number solut solut exactli one solut infinit mani solut', 'mike deliv n newspap morn rout tom deliv time mani newspap mike mani newspap tom deliv write express use n', 'solv follow system substitut x x', 'solv follow system elimin x x', 'aiden made v visit neighbor hous watch cat away paid time visit hous care anim much aiden paid total watch neighbor cat write express use v', 'write express match phrase total', 'write equat match phrase r time', 'middl school student high school time mani student middl school mani student high school write express use', 'volunt organ pack basket treat senior citizen holiday season saturday volunt abl prepar basket sunday b fewer basket prepar mani basket volunt prepar sunday write express use b', 'gemma enter dog hamlet dog show hamlet prize dollar place third show cost gemma regist hamlet show much money gemma left dog show earn write express use', 'pet store goldfish aquarium fred went store bought f fish aquarium mani fish left aquarium fred bought write express use f', 'write algebra express match phrase product less n', 'write express match phrase k', 'art teacher mix blue yellow paint make green color add cup blue paint c cup yellow paint jar mani total number cup green paint write express c', 'tree violet backyard feet tall swing tie branch way tree high branch', 'geni use cup peach make pie next morn use amount peach cereal mani cup peach geni use cereal', 'solv follow system substitut x x', 'write express match phrase multipli b increas', 'solv system equat x x', 'solv follow system elimin x x', 'solv follow system substitut x x', 'follow direct creat equival fraction denomin interact student follow step creat exploratori area model', 'shay philip learn play guitar philip know chord alreadi plan learn new chord per week shay know chord plan learn chord per week mani week shay philip know number chord', 'write express match phrase two fifth n reduc', 'write express match phrase multipli time q subtract', 'becca collect fun size candi bar trick treat littl brother zach got treat bag ate c candi bar mani candi bar becca zach ate write express use c', 'write express match phrase n cube time', 'interact student follow step creat exploratori area model', 'write express match phrase sum p', 'write algebra express match phrase multipli less', 'beth ann spool ribbon yard ribbon make project cut yard ribbon mani yard ribbon left spool write express use', 'solv follow system substitut x x', 'write express match phrase separ g equal part subtract', 'solv follow system elimin x x', 'anim walk around farmer mac barnyard chicken pig anim total leg write system equat find number two leg chicken x four leg pig barnyard', 'interact student follow step creat exploratori area model', 'estim quotient', 'estim quotient', 'dexter elli go movi group friend dexter group spend per movi ticket total snack elli group spend per ticket total snack write two equat slope intercept form repres total cost group term number ticket purchas x', 'daisi bought new plant garden paid full price plant plant sale togeth daisi spent write system equat find number full price plant daisi bought x number sale price plant daisi bought', 'write express match phrase n cube divid', 'estim product', 'interact student follow step creat exploratori area model', 'franklin middl school can food drive mr lao class mr lao brought can food student brought can ms roger class ms roger bring can student brought can food write two equat slope intercept form repres number can food class term number student x', 'write express match phrase divid k subtract', 'evi pound tomato make spaghetti sauc tomato came evi garden mani pound tomato came evi garden', 'peopl wait line newli releas superhero movi hour p peopl join line mani peopl line hour write express use p use express mani peopl line peopl join line', 'determin number solut follow system equat x x number solut solut exactli one solut infinit mani solut', 'estim product', 'salli p dollar spent eat lunch much money salli lunch write express use p use express much money salli lunch lunch', 'solv system equat x x', 'solv follow system elimin x x', 'write express match phrase reduc one tenth n', 'write express match phrase result c time ad', 'write express match phrase one ninth n subtract', 'write equat match phrase b multipli', 'write algebra express match phrase product result h ad', 'chocol cake recip call cup cocoa total one step mari add total cocoa butter much cocoa mari add butter', 'phoeb save account add per week oscar save account add week mani week phoeb oscar amount save account', 'softbal team consid two differ printer new team jersey shirt charg setup fee plu per shirt custom print charg setup fee plu per shirt mani shirt would team order compani charg amount team order mani shirt much would compani cost', 'cyclop goblin attend gather mythic creatur event creatur attend total eye cyclop one eye goblin two eye mani cyclop goblin attend event', 'dog groomer charg small dog larg dog groom total dog one saturday earn total mani small dog larg dog groom saturday', 'interact student follow step creat exploratori area model', 'firehous hold pancak breakfast rais money local chariti dave alreadi made pancak cook averag pancak per minut griddl alic alreadi made pancak cook averag pancak per minut griddl write two equat slope intercept form repres firefight total number pancak term number minut cook x', 'kerri basketbal team score point first half game second half score p point kerri team final score write express use p use express kerri team final score score point second half', 'candi shop sell gumbal per pound fudg per pound victor spend pound gumbal fudg write system equat find number pound gumbal x number pound fudg victor purchas', 'brook spent last weekend plant flower around hous saturday brook plant f flower sunday less time plant fewer flower saturday mani flower brook plant sunday write express use f', 'write express match phrase one third n ad', 'write express match phrase n cube separ equal part', 'solv follow system substitut x x', 'jeanni complet crossword puzzl made letter letter word far complet word total letter mani letter word letter word jeanni complet', 'identifi term coeffici variabl constant follow express q r', 'gym class th grader ran mile th grader ran distanc th grader mani mile th grader run', 'write algebra express match phrase find sum j divid', 'write algebra express match phrase time sum', 'joell mother pack c cooki lunch box today joell share cooki friend lunch mani cooki joell left eat write express use c', 'write express match phrase n squar multipli', 'interact student follow step creat exploratori area model', 'snack shack beach sell burger french fri emma tell one custom total bag item write system equat find number burger x number fri order', 'write express match phrase ad one third n', 'solv follow system substitut x x', 'molli postcard collect jen p time mani postcard molli mani postcard jen collect write express use p', 'write equat match phrase c', 'solv follow system elimin x x', 'write express match phrase plu one fifth n', 'write express match phrase three fifth n increas', 'write equat match phrase p greater', 'theater newest drama club play full attend student fraction theater fill student', 'solv follow system substitut x x', 'solv system equat x x', 'nia practic violin minut everi day school today alreadi practic minut still need practic mani minut nia left practic today write express use use express mani minut nia left practic practic total minut', 'solv follow system substitut x x', 'identifi term coeffici variabl constant follow express p r', 'write express match phrase ad one fourth n', 'solv follow system elimin x x', 'follow direct creat equival fraction denomin interact student follow step creat exploratori area model', 'follow direct creat equival fraction denomin interact student follow step creat exploratori area model', 'asa score g goal soccer season last year year score time mani goal mani goal asa score season write express use g use express mani goal asa score season score goal last season', 'glenda hair h inch long cut hair donat inch organ make wig peopl lost hair long glenda hair cut write express use h', 'identifi term coeffici variabl constant follow express e', 'juan li cyclist compet race juan cover distanc mile travel rate mile per hour li cover distanc mile travel rate mile per hour write two equat slope intercept form repres cyclist distanc term number hour x', 'write algebra express match phrase add b divid', 'interact student follow step creat exploratori area model', 'write express match phrase plu h', 'identifi term coeffici variabl constant follow express b c', 'solv follow system elimin x x', 'write express match phrase time v', 'first time sue made enchilada use teaspoon chili flake second time made enchilada use time mani chili flake make hotter mani teaspoon chili flake sue use hotter enchilada']\n"
     ]
    }
   ],
   "source": [
    "print(corpus)"
   ]
  },
  {
   "attachments": {},
   "cell_type": "markdown",
   "metadata": {},
   "source": [
    "Creating a Bag of Words"
   ]
  },
  {
   "cell_type": "code",
   "execution_count": 5,
   "metadata": {},
   "outputs": [],
   "source": [
    "from sklearn.feature_extraction.text import CountVectorizer\n",
    "cv = CountVectorizer(max_features=550)\n",
    "X = cv.fit_transform(corpus).toarray()\n",
    "y = dataset.iloc[:, -1].values"
   ]
  },
  {
   "attachments": {},
   "cell_type": "markdown",
   "metadata": {},
   "source": [
    "Splitting the Dataset into Training_Set and Test_set"
   ]
  },
  {
   "cell_type": "code",
   "execution_count": 6,
   "metadata": {},
   "outputs": [],
   "source": [
    "from sklearn.model_selection import train_test_split\n",
    "X_train, X_test, y_train, y_test = train_test_split(X, y, test_size=0.25, random_state=0)"
   ]
  },
  {
   "attachments": {},
   "cell_type": "markdown",
   "metadata": {},
   "source": [
    "Training of Data"
   ]
  },
  {
   "cell_type": "code",
   "execution_count": 7,
   "metadata": {},
   "outputs": [
    {
     "data": {
      "text/html": [
       "<style>#sk-container-id-1 {color: black;background-color: white;}#sk-container-id-1 pre{padding: 0;}#sk-container-id-1 div.sk-toggleable {background-color: white;}#sk-container-id-1 label.sk-toggleable__label {cursor: pointer;display: block;width: 100%;margin-bottom: 0;padding: 0.3em;box-sizing: border-box;text-align: center;}#sk-container-id-1 label.sk-toggleable__label-arrow:before {content: \"▸\";float: left;margin-right: 0.25em;color: #696969;}#sk-container-id-1 label.sk-toggleable__label-arrow:hover:before {color: black;}#sk-container-id-1 div.sk-estimator:hover label.sk-toggleable__label-arrow:before {color: black;}#sk-container-id-1 div.sk-toggleable__content {max-height: 0;max-width: 0;overflow: hidden;text-align: left;background-color: #f0f8ff;}#sk-container-id-1 div.sk-toggleable__content pre {margin: 0.2em;color: black;border-radius: 0.25em;background-color: #f0f8ff;}#sk-container-id-1 input.sk-toggleable__control:checked~div.sk-toggleable__content {max-height: 200px;max-width: 100%;overflow: auto;}#sk-container-id-1 input.sk-toggleable__control:checked~label.sk-toggleable__label-arrow:before {content: \"▾\";}#sk-container-id-1 div.sk-estimator input.sk-toggleable__control:checked~label.sk-toggleable__label {background-color: #d4ebff;}#sk-container-id-1 div.sk-label input.sk-toggleable__control:checked~label.sk-toggleable__label {background-color: #d4ebff;}#sk-container-id-1 input.sk-hidden--visually {border: 0;clip: rect(1px 1px 1px 1px);clip: rect(1px, 1px, 1px, 1px);height: 1px;margin: -1px;overflow: hidden;padding: 0;position: absolute;width: 1px;}#sk-container-id-1 div.sk-estimator {font-family: monospace;background-color: #f0f8ff;border: 1px dotted black;border-radius: 0.25em;box-sizing: border-box;margin-bottom: 0.5em;}#sk-container-id-1 div.sk-estimator:hover {background-color: #d4ebff;}#sk-container-id-1 div.sk-parallel-item::after {content: \"\";width: 100%;border-bottom: 1px solid gray;flex-grow: 1;}#sk-container-id-1 div.sk-label:hover label.sk-toggleable__label {background-color: #d4ebff;}#sk-container-id-1 div.sk-serial::before {content: \"\";position: absolute;border-left: 1px solid gray;box-sizing: border-box;top: 0;bottom: 0;left: 50%;z-index: 0;}#sk-container-id-1 div.sk-serial {display: flex;flex-direction: column;align-items: center;background-color: white;padding-right: 0.2em;padding-left: 0.2em;position: relative;}#sk-container-id-1 div.sk-item {position: relative;z-index: 1;}#sk-container-id-1 div.sk-parallel {display: flex;align-items: stretch;justify-content: center;background-color: white;position: relative;}#sk-container-id-1 div.sk-item::before, #sk-container-id-1 div.sk-parallel-item::before {content: \"\";position: absolute;border-left: 1px solid gray;box-sizing: border-box;top: 0;bottom: 0;left: 50%;z-index: -1;}#sk-container-id-1 div.sk-parallel-item {display: flex;flex-direction: column;z-index: 1;position: relative;background-color: white;}#sk-container-id-1 div.sk-parallel-item:first-child::after {align-self: flex-end;width: 50%;}#sk-container-id-1 div.sk-parallel-item:last-child::after {align-self: flex-start;width: 50%;}#sk-container-id-1 div.sk-parallel-item:only-child::after {width: 0;}#sk-container-id-1 div.sk-dashed-wrapped {border: 1px dashed gray;margin: 0 0.4em 0.5em 0.4em;box-sizing: border-box;padding-bottom: 0.4em;background-color: white;}#sk-container-id-1 div.sk-label label {font-family: monospace;font-weight: bold;display: inline-block;line-height: 1.2em;}#sk-container-id-1 div.sk-label-container {text-align: center;}#sk-container-id-1 div.sk-container {/* jupyter's `normalize.less` sets `[hidden] { display: none; }` but bootstrap.min.css set `[hidden] { display: none !important; }` so we also need the `!important` here to be able to override the default hidden behavior on the sphinx rendered scikit-learn.org. See: https://github.com/scikit-learn/scikit-learn/issues/21755 */display: inline-block !important;position: relative;}#sk-container-id-1 div.sk-text-repr-fallback {display: none;}</style><div id=\"sk-container-id-1\" class=\"sk-top-container\"><div class=\"sk-text-repr-fallback\"><pre>RandomForestClassifier(criterion=&#x27;entropy&#x27;, n_estimators=20, random_state=0)</pre><b>In a Jupyter environment, please rerun this cell to show the HTML representation or trust the notebook. <br />On GitHub, the HTML representation is unable to render, please try loading this page with nbviewer.org.</b></div><div class=\"sk-container\" hidden><div class=\"sk-item\"><div class=\"sk-estimator sk-toggleable\"><input class=\"sk-toggleable__control sk-hidden--visually\" id=\"sk-estimator-id-1\" type=\"checkbox\" checked><label for=\"sk-estimator-id-1\" class=\"sk-toggleable__label sk-toggleable__label-arrow\">RandomForestClassifier</label><div class=\"sk-toggleable__content\"><pre>RandomForestClassifier(criterion=&#x27;entropy&#x27;, n_estimators=20, random_state=0)</pre></div></div></div></div></div>"
      ],
      "text/plain": [
       "RandomForestClassifier(criterion='entropy', n_estimators=20, random_state=0)"
      ]
     },
     "execution_count": 7,
     "metadata": {},
     "output_type": "execute_result"
    }
   ],
   "source": [
    "from sklearn.ensemble import RandomForestClassifier\n",
    "classifier = RandomForestClassifier(n_estimators = 20, criterion = 'entropy', random_state = 0)\n",
    "classifier.fit(X_train, y_train)"
   ]
  },
  {
   "attachments": {},
   "cell_type": "markdown",
   "metadata": {},
   "source": [
    "Predicting the Results "
   ]
  },
  {
   "cell_type": "code",
   "execution_count": 8,
   "metadata": {},
   "outputs": [
    {
     "name": "stdout",
     "output_type": "stream",
     "text": [
      "[[12 12]\n",
      " [24 24]\n",
      " [ 6  6]\n",
      " [ 7 21]\n",
      " [ 1  1]\n",
      " [12 12]\n",
      " [ 3  3]\n",
      " [10 10]\n",
      " [ 3  3]\n",
      " [ 8  8]\n",
      " [ 5  5]\n",
      " [15 15]\n",
      " [18 18]\n",
      " [ 5  2]\n",
      " [18 18]\n",
      " [ 7  7]\n",
      " [19 19]\n",
      " [20 20]\n",
      " [ 9  9]\n",
      " [24 24]\n",
      " [21 21]\n",
      " [ 5  2]\n",
      " [20 20]\n",
      " [ 6  6]\n",
      " [ 9  9]\n",
      " [11 11]\n",
      " [ 8  8]\n",
      " [ 8  8]\n",
      " [ 4  4]\n",
      " [24 24]\n",
      " [22 22]\n",
      " [11 11]\n",
      " [14 13]\n",
      " [14 13]\n",
      " [ 1  2]\n",
      " [11 11]\n",
      " [16 16]\n",
      " [24 24]\n",
      " [ 5  5]\n",
      " [16 16]\n",
      " [10 16]\n",
      " [21 18]\n",
      " [23 23]\n",
      " [17 17]\n",
      " [ 7  7]\n",
      " [14 14]\n",
      " [14 14]\n",
      " [17 17]\n",
      " [20 20]\n",
      " [24 24]\n",
      " [24 24]\n",
      " [15 15]\n",
      " [16 16]\n",
      " [18 18]\n",
      " [23 23]\n",
      " [21 19]\n",
      " [21  7]\n",
      " [14 13]\n",
      " [ 7  7]\n",
      " [ 8  8]\n",
      " [ 9  9]\n",
      " [ 2  2]\n",
      " [10 10]]\n"
     ]
    }
   ],
   "source": [
    "y_pred = classifier.predict(X_test)\n",
    "print(np.concatenate((y_pred.reshape(len(y_pred),1), y_test.reshape(len(y_test),1)),1))"
   ]
  },
  {
   "attachments": {},
   "cell_type": "markdown",
   "metadata": {},
   "source": [
    "Checking the Accuracy"
   ]
  },
  {
   "cell_type": "code",
   "execution_count": 9,
   "metadata": {},
   "outputs": [
    {
     "name": "stdout",
     "output_type": "stream",
     "text": [
      "[[1 0 0 0 0 0 0 0 0 0 0 0 0 0 0 0 0 0 0 0 0 0 0 0]\n",
      " [1 1 0 0 2 0 0 0 0 0 0 0 0 0 0 0 0 0 0 0 0 0 0 0]\n",
      " [0 0 2 0 0 0 0 0 0 0 0 0 0 0 0 0 0 0 0 0 0 0 0 0]\n",
      " [0 0 0 1 0 0 0 0 0 0 0 0 0 0 0 0 0 0 0 0 0 0 0 0]\n",
      " [0 0 0 0 2 0 0 0 0 0 0 0 0 0 0 0 0 0 0 0 0 0 0 0]\n",
      " [0 0 0 0 0 2 0 0 0 0 0 0 0 0 0 0 0 0 0 0 0 0 0 0]\n",
      " [0 0 0 0 0 0 3 0 0 0 0 0 0 0 0 0 0 0 0 0 1 0 0 0]\n",
      " [0 0 0 0 0 0 0 4 0 0 0 0 0 0 0 0 0 0 0 0 0 0 0 0]\n",
      " [0 0 0 0 0 0 0 0 3 0 0 0 0 0 0 0 0 0 0 0 0 0 0 0]\n",
      " [0 0 0 0 0 0 0 0 0 2 0 0 0 0 0 0 0 0 0 0 0 0 0 0]\n",
      " [0 0 0 0 0 0 0 0 0 0 3 0 0 0 0 0 0 0 0 0 0 0 0 0]\n",
      " [0 0 0 0 0 0 0 0 0 0 0 2 0 0 0 0 0 0 0 0 0 0 0 0]\n",
      " [0 0 0 0 0 0 0 0 0 0 0 0 0 3 0 0 0 0 0 0 0 0 0 0]\n",
      " [0 0 0 0 0 0 0 0 0 0 0 0 0 2 0 0 0 0 0 0 0 0 0 0]\n",
      " [0 0 0 0 0 0 0 0 0 0 0 0 0 0 2 0 0 0 0 0 0 0 0 0]\n",
      " [0 0 0 0 0 0 0 0 0 1 0 0 0 0 0 3 0 0 0 0 0 0 0 0]\n",
      " [0 0 0 0 0 0 0 0 0 0 0 0 0 0 0 0 2 0 0 0 0 0 0 0]\n",
      " [0 0 0 0 0 0 0 0 0 0 0 0 0 0 0 0 0 3 0 0 1 0 0 0]\n",
      " [0 0 0 0 0 0 0 0 0 0 0 0 0 0 0 0 0 0 1 0 1 0 0 0]\n",
      " [0 0 0 0 0 0 0 0 0 0 0 0 0 0 0 0 0 0 0 3 0 0 0 0]\n",
      " [0 0 0 0 0 0 1 0 0 0 0 0 0 0 0 0 0 0 0 0 1 0 0 0]\n",
      " [0 0 0 0 0 0 0 0 0 0 0 0 0 0 0 0 0 0 0 0 0 1 0 0]\n",
      " [0 0 0 0 0 0 0 0 0 0 0 0 0 0 0 0 0 0 0 0 0 0 2 0]\n",
      " [0 0 0 0 0 0 0 0 0 0 0 0 0 0 0 0 0 0 0 0 0 0 0 6]]\n",
      "\n",
      " \n",
      "\n",
      "The accuracy of the model is:  0.8253968253968254\n"
     ]
    }
   ],
   "source": [
    "from sklearn.metrics import confusion_matrix, accuracy_score\n",
    "cm = confusion_matrix(y_test, y_pred)\n",
    "print(cm)\n",
    "print(\"\\n \\n\")\n",
    "print(\"The accuracy of the model is: \", accuracy_score(y_test, y_pred))\n"
   ]
  }
 ],
 "metadata": {
  "kernelspec": {
   "display_name": "Python 3",
   "language": "python",
   "name": "python3"
  },
  "language_info": {
   "codemirror_mode": {
    "name": "ipython",
    "version": 3
   },
   "file_extension": ".py",
   "mimetype": "text/x-python",
   "name": "python",
   "nbconvert_exporter": "python",
   "pygments_lexer": "ipython3",
   "version": "3.10.0"
  },
  "orig_nbformat": 4
 },
 "nbformat": 4,
 "nbformat_minor": 2
}
